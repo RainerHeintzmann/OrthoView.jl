{
 "cells": [
  {
   "cell_type": "code",
   "execution_count": 1,
   "metadata": {},
   "outputs": [
    {
     "name": "stderr",
     "output_type": "stream",
     "text": [
      "\u001b[32m\u001b[1m  Activating\u001b[22m\u001b[39m project at `c:\\Users\\pi96doc\\Nextcloud-Uni\\Julia\\OrthoView.jl`\n"
     ]
    },
    {
     "data": {
      "text/plain": [
       "\"C:\\\\Users\\\\pi96doc\\\\AppData\\\\Local\\\\Temp\\\\jl_RUj9tm\\\\Project.toml\""
      ]
     },
     "metadata": {},
     "output_type": "display_data"
    }
   ],
   "source": [
    "Pkg.activate(\"..\")\n",
    "using TestEnv;TestEnv.activate()"
   ]
  },
  {
   "cell_type": "code",
   "execution_count": 3,
   "metadata": {},
   "outputs": [
    {
     "data": {
      "text/plain": [
       "Makie.Slider"
      ]
     },
     "metadata": {},
     "output_type": "display_data"
    }
   ],
   "source": [
    "import WGLMakie: Makie\n",
    "Makie.Slider"
   ]
  },
  {
   "cell_type": "code",
   "execution_count": 4,
   "metadata": {},
   "outputs": [],
   "source": [
    "using WGLMakie\n",
    "WGLMakie.activate!(; framerate=30)"
   ]
  },
  {
   "cell_type": "code",
   "execution_count": 7,
   "metadata": {},
   "outputs": [
    {
     "data": {
      "text/html": [
       "<div>\n",
       "  <script src=\"http://localhost:9384/assets-1239152114849812744/01da283050350cfc371927f96b11ec49a2446fdb-JSServe.bundled.js\" type=\"module\"></script>\n",
       "  <script type=\"module\">    JSServe.fetch_binary('http://localhost:9384/assets-1239152114849812744/c64e56e8865ec141a39d80ef5c0e480851b406d2-11908610870932036227.dist').then(msgs=> JSServe.init_session('88e9423c-6abd-4f20-9bc3-c724628da133', msgs, 'root'));\n",
       "</script>\n",
       "  <script type=\"module\">    import('http://localhost:9384/assets-1239152114849812744/2c397fe0196b480c2fe7d0b6d33d58e0107a9b0f-Websocket.bundled.js').then(WS => {\n",
       "        WS.setup_connection({proxy_url: 'http://localhost:9384', session_id: '88e9423c-6abd-4f20-9bc3-c724628da133', compression_enabled: false})\n",
       "    })\n",
       "</script>\n",
       "  <div id=\"88e9423c-6abd-4f20-9bc3-c724628da133\" data-jscall-id=\"root\">\n",
       "    <div data-jscall-id=\"1\">\n",
       "      <canvas data-jscall-id=\"2\" tabindex=\"0\"></canvas>\n",
       "    </div>\n",
       "  </div>\n",
       "  <div></div>\n",
       "</div>"
      ]
     },
     "metadata": {},
     "output_type": "display_data"
    }
   ],
   "source": [
    "scatter(1:4, color=1:4)"
   ]
  },
  {
   "cell_type": "code",
   "execution_count": 5,
   "metadata": {},
   "outputs": [
    {
     "name": "stderr",
     "output_type": "stream",
     "text": [
      "WARNING: both Makie and JSServe export \"Slider\"; uses of it in module WGLMakie must be qualified\n"
     ]
    },
    {
     "ename": "UndefVarError",
     "evalue": "UndefVarError: Slider not defined",
     "output_type": "error",
     "traceback": [
      "UndefVarError: Slider not defined\n",
      "\n",
      "Stacktrace:\n",
      " [1] getproperty(x::Module, f::Symbol)\n",
      "   @ Base .\\Base.jl:31\n",
      " [2] top-level scope\n",
      "   @ c:\\Users\\pi96doc\\Nextcloud-Uni\\Julia\\OrthoView.jl\\examples\\ijupyter_example.ipynb:1"
     ]
    }
   ],
   "source": []
  },
  {
   "cell_type": "code",
   "execution_count": 3,
   "metadata": {},
   "outputs": [],
   "source": [
    "using OrthoView"
   ]
  },
  {
   "cell_type": "code",
   "execution_count": 11,
   "metadata": {},
   "outputs": [
    {
     "data": {
      "text/html": [
       "<div>\n",
       "  <script src=\"http://localhost:9384/assets-4479903077601532726/01da283050350cfc371927f96b11ec49a2446fdb-JSServe.bundled.js\" type=\"module\"></script>\n",
       "  <script type=\"module\">    JSServe.fetch_binary('http://localhost:9384/assets-4479903077601532726/67829b19e201bf10c1622aa73aa87b6e80a84a05-2691085213341565397.dist').then(msgs=> JSServe.init_session('9df106f6-3a66-4b3b-ad1a-ff83f78b4390', msgs, 'root'));\n",
       "</script>\n",
       "  <script type=\"module\">    import('http://localhost:9384/assets-4479903077601532726/2c397fe0196b480c2fe7d0b6d33d58e0107a9b0f-Websocket.bundled.js').then(WS => {\n",
       "        WS.setup_connection({proxy_url: 'http://localhost:9384', session_id: '9df106f6-3a66-4b3b-ad1a-ff83f78b4390', compression_enabled: false})\n",
       "    })\n",
       "</script>\n",
       "  <div id=\"9df106f6-3a66-4b3b-ad1a-ff83f78b4390\" data-jscall-id=\"root\">\n",
       "    <div data-jscall-id=\"1\">\n",
       "      <canvas data-jscall-id=\"2\" tabindex=\"0\"></canvas>\n",
       "    </div>\n",
       "  </div>\n",
       "  <div></div>\n",
       "</div>"
      ]
     },
     "metadata": {},
     "output_type": "display_data"
    },
    {
     "name": "stderr",
     "output_type": "stream",
     "text": [
      "┌ Warning: Error in window event callback\n",
      "│   exception = (TaskFailedException(Task (failed) @0x00000000b88722f0), Union{Ptr{Nothing}, Base.InterpreterIP}[Ptr{Nothing} @0x000000015039f789, Ptr{Nothing} @0x000000015039f90c, Ptr{Nothing} @0x000000015039fb88, Ptr{Nothing} @0x000000015039dc6d, Ptr{Nothing} @0x000000015039e49b, Ptr{Nothing} @0x000000015039e83e, Ptr{Nothing} @0x000000015039f224, Ptr{Nothing} @0x0000000065429d28, Ptr{Nothing} @0x000000006542baad, Ptr{Nothing} @0x000000000dd5e4cd, Ptr{Nothing} @0x000000006542baad, Ptr{Nothing} @0x000000000e476cb3, Ptr{Nothing} @0x000000006542baad, Ptr{Nothing} @0x0000000060570dd3, Ptr{Nothing} @0x0000000060570e06, Ptr{Nothing} @0x0000000065429d28, Ptr{Nothing} @0x000000015039c3e1, Ptr{Nothing} @0x000000015039d353, Ptr{Nothing} @0x000000006543e561])\n",
      "└ @ WGLMakie C:\\Users\\pi96doc\\.julia\\packages\\WGLMakie\\Ykt0o\\src\\events.jl:106\n"
     ]
    },
    {
     "name": "stderr",
     "output_type": "stream",
     "text": [
      "┌ Warning: Error in window event callback\n",
      "│   exception = (TaskFailedException(Task (failed) @0x00000000b8872ab0), Union{Ptr{Nothing}, Base.InterpreterIP}[Ptr{Nothing} @0x000000015039f789, Ptr{Nothing} @0x000000015039f90c, Ptr{Nothing} @0x000000015039fb88, Ptr{Nothing} @0x000000015039dc6d, Ptr{Nothing} @0x000000015039e49b, Ptr{Nothing} @0x000000015039e83e, Ptr{Nothing} @0x000000015039f224, Ptr{Nothing} @0x0000000065429d28, Ptr{Nothing} @0x000000006542baad, Ptr{Nothing} @0x000000000dd5e4cd, Ptr{Nothing} @0x000000006542baad, Ptr{Nothing} @0x000000000e476cb3, Ptr{Nothing} @0x000000006542baad, Ptr{Nothing} @0x0000000060570dd3, Ptr{Nothing} @0x0000000060570e06, Ptr{Nothing} @0x0000000065429d28, Ptr{Nothing} @0x000000006309ee02, Ptr{Nothing} @0x000000015039b998, Ptr{Nothing} @0x000000015039d353, Ptr{Nothing} @0x000000006543e561])\n",
      "└ @ WGLMakie C:\\Users\\pi96doc\\.julia\\packages\\WGLMakie\\Ykt0o\\src\\events.jl:106\n",
      "┌ Warning: Error in window event callback\n",
      "│   exception = (TaskFailedException(Task (failed) @0x00000000b8873080), Union{Ptr{Nothing}, Base.InterpreterIP}[Ptr{Nothing} @0x000000015039f789, Ptr{Nothing} @0x000000015039f90c, Ptr{Nothing} @0x000000015039fb88, Ptr{Nothing} @0x000000015039dc6d, Ptr{Nothing} @0x000000015039e49b, Ptr{Nothing} @0x000000015039e83e, Ptr{Nothing} @0x000000015039f224, Ptr{Nothing} @0x0000000065429d28, Ptr{Nothing} @0x000000006542baad, Ptr{Nothing} @0x000000000dd5e4cd, Ptr{Nothing} @0x000000006542baad, Ptr{Nothing} @0x000000000e476cb3, Ptr{Nothing} @0x000000006542baad, Ptr{Nothing} @0x0000000060570dd3, Ptr{Nothing} @0x0000000060570e06, Ptr{Nothing} @0x0000000065429d28, Ptr{Nothing} @0x000000006309ee02, Ptr{Nothing} @0x000000015039b998, Ptr{Nothing} @0x000000015039d353, Ptr{Nothing} @0x000000006543e561])\n",
      "└ @ WGLMakie C:\\Users\\pi96doc\\.julia\\packages\\WGLMakie\\Ykt0o\\src\\events.jl:106\n",
      "┌ Warning: Error in window event callback\n",
      "│   exception = (TaskFailedException(Task (failed) @0x00000000b8873460), Union{Ptr{Nothing}, Base.InterpreterIP}[Ptr{Nothing} @0x000000015039f789, Ptr{Nothing} @0x000000015039f90c, Ptr{Nothing} @0x000000015039fb88, Ptr{Nothing} @0x000000015039dc6d, Ptr{Nothing} @0x000000015039e49b, Ptr{Nothing} @0x000000015039e83e, Ptr{Nothing} @0x000000015039f224, Ptr{Nothing} @0x0000000065429d28, Ptr{Nothing} @0x000000006542baad, Ptr{Nothing} @0x000000000dd5e4cd, Ptr{Nothing} @0x000000006542baad, Ptr{Nothing} @0x000000000e476cb3, Ptr{Nothing} @0x000000006542baad, Ptr{Nothing} @0x0000000060570dd3, Ptr{Nothing} @0x0000000060570e06, Ptr{Nothing} @0x0000000065429d28, Ptr{Nothing} @0x000000006309ee02, Ptr{Nothing} @0x000000015039b998, Ptr{Nothing} @0x000000015039d353, Ptr{Nothing} @0x000000006543e561])\n",
      "└ @ WGLMakie C:\\Users\\pi96doc\\.julia\\packages\\WGLMakie\\Ykt0o\\src\\events.jl:106\n",
      "┌ Warning: Error in window event callback\n",
      "│   exception = (TaskFailedException(Task (failed) @0x00000000b88726d0), Union{Ptr{Nothing}, Base.InterpreterIP}[Ptr{Nothing} @0x000000015039f789, Ptr{Nothing} @0x000000015039f90c, Ptr{Nothing} @0x000000015039fb88, Ptr{Nothing} @0x000000015039dc6d, Ptr{Nothing} @0x000000015039e49b, Ptr{Nothing} @0x000000015039e83e, Ptr{Nothing} @0x000000015039f224, Ptr{Nothing} @0x0000000065429d28, Ptr{Nothing} @0x000000006542baad, Ptr{Nothing} @0x000000000dd5e4cd, Ptr{Nothing} @0x000000006542baad, Ptr{Nothing} @0x000000000e476cb3, Ptr{Nothing} @0x000000006542baad, Ptr{Nothing} @0x0000000060570dd3, Ptr{Nothing} @0x0000000060570e06, Ptr{Nothing} @0x0000000065429d28, Ptr{Nothing} @0x000000006309ee02, Ptr{Nothing} @0x000000015039b998, Ptr{Nothing} @0x000000015039d353, Ptr{Nothing} @0x000000006543e561])\n",
      "└ @ WGLMakie C:\\Users\\pi96doc\\.julia\\packages\\WGLMakie\\Ykt0o\\src\\events.jl:106\n"
     ]
    },
    {
     "name": "stderr",
     "output_type": "stream",
     "text": [
      "┌ Warning: Error in window event callback\n",
      "│   exception = (TaskFailedException(Task (failed) @0x00000000b8873840), Union{Ptr{Nothing}, Base.InterpreterIP}[Ptr{Nothing} @0x000000015039f789, Ptr{Nothing} @0x000000015039f90c, Ptr{Nothing} @0x000000015039fb88, Ptr{Nothing} @0x000000015039dc6d, Ptr{Nothing} @0x000000015039e49b, Ptr{Nothing} @0x000000015039e83e, Ptr{Nothing} @0x000000015039f224, Ptr{Nothing} @0x0000000065429d28, Ptr{Nothing} @0x000000006542baad, Ptr{Nothing} @0x000000000dd5e4cd, Ptr{Nothing} @0x000000006542baad, Ptr{Nothing} @0x000000000e476cb3, Ptr{Nothing} @0x000000006542baad, Ptr{Nothing} @0x0000000060570dd3, Ptr{Nothing} @0x0000000060570e06, Ptr{Nothing} @0x0000000065429d28, Ptr{Nothing} @0x000000006309ee02, Ptr{Nothing} @0x000000015039b998, Ptr{Nothing} @0x000000015039d353, Ptr{Nothing} @0x000000006543e561])\n",
      "└ @ WGLMakie C:\\Users\\pi96doc\\.julia\\packages\\WGLMakie\\Ykt0o\\src\\events.jl:106\n"
     ]
    },
    {
     "name": "stderr",
     "output_type": "stream",
     "text": [
      "┌ Warning: Error in window event callback\n",
      "│   exception = (TaskFailedException(Task (failed) @0x00000000b9548010), Union{Ptr{Nothing}, Base.InterpreterIP}[Ptr{Nothing} @0x000000015039f789, Ptr{Nothing} @0x000000015039f90c, Ptr{Nothing} @0x000000015039fb88, Ptr{Nothing} @0x000000015039dc6d, Ptr{Nothing} @0x000000015039e49b, Ptr{Nothing} @0x000000015039e83e, Ptr{Nothing} @0x000000015039f224, Ptr{Nothing} @0x0000000065429d28, Ptr{Nothing} @0x000000006542baad, Ptr{Nothing} @0x000000000dd5e4cd, Ptr{Nothing} @0x000000006542baad, Ptr{Nothing} @0x000000000e476cb3, Ptr{Nothing} @0x000000006542baad, Ptr{Nothing} @0x0000000060570dd3, Ptr{Nothing} @0x0000000060570e06, Ptr{Nothing} @0x0000000065429d28, Ptr{Nothing} @0x000000006309ee02, Ptr{Nothing} @0x000000015039b998, Ptr{Nothing} @0x000000015039d353, Ptr{Nothing} @0x000000006543e561])\n",
      "└ @ WGLMakie C:\\Users\\pi96doc\\.julia\\packages\\WGLMakie\\Ykt0o\\src\\events.jl:106\n"
     ]
    },
    {
     "data": {
      "text/html": [
       "<div>\n",
       "  <script src=\"http://localhost:9384/assets-3870152195036897213/01da283050350cfc371927f96b11ec49a2446fdb-JSServe.bundled.js\" type=\"module\"></script>\n",
       "  <script type=\"module\">    JSServe.fetch_binary('http://localhost:9384/assets-3870152195036897213/566478f82b693b640a069547d50cae10323d2a36-6543627234861037129.dist').then(msgs=> JSServe.init_session('70229b65-32a0-4ee0-a9ff-234f27ec2053', msgs, 'root'));\n",
       "</script>\n",
       "  <script type=\"module\">    import('http://localhost:9384/assets-3870152195036897213/2c397fe0196b480c2fe7d0b6d33d58e0107a9b0f-Websocket.bundled.js').then(WS => {\n",
       "        WS.setup_connection({proxy_url: 'http://localhost:9384', session_id: '70229b65-32a0-4ee0-a9ff-234f27ec2053', compression_enabled: false})\n",
       "    })\n",
       "</script>\n",
       "  <div id=\"70229b65-32a0-4ee0-a9ff-234f27ec2053\" data-jscall-id=\"root\">\n",
       "    <div data-jscall-id=\"1\">\n",
       "      <canvas data-jscall-id=\"2\" tabindex=\"0\"></canvas>\n",
       "    </div>\n",
       "  </div>\n",
       "  <div></div>\n",
       "</div>"
      ]
     },
     "metadata": {},
     "output_type": "display_data"
    },
    {
     "name": "stderr",
     "output_type": "stream",
     "text": [
      "┌ Warning: Error in window event callback\n",
      "│   exception = (TaskFailedException(Task (failed) @0x00000000b95485e0), Union{Ptr{Nothing}, Base.InterpreterIP}[Ptr{Nothing} @0x000000015039f789, Ptr{Nothing} @0x000000015039f90c, Ptr{Nothing} @0x000000015039fb88, Ptr{Nothing} @0x000000015039dc6d, Ptr{Nothing} @0x000000015039e49b, Ptr{Nothing} @0x000000015039e83e, Ptr{Nothing} @0x000000015039f224, Ptr{Nothing} @0x0000000065429d28, Ptr{Nothing} @0x000000006542baad, Ptr{Nothing} @0x000000000dd5e4cd, Ptr{Nothing} @0x000000006542baad, Ptr{Nothing} @0x000000000e476cb3, Ptr{Nothing} @0x000000006542baad, Ptr{Nothing} @0x0000000060570dd3, Ptr{Nothing} @0x0000000060570e06, Ptr{Nothing} @0x0000000065429d28, Ptr{Nothing} @0x000000006309ee02, Ptr{Nothing} @0x000000015039b998, Ptr{Nothing} @0x000000015039d353, Ptr{Nothing} @0x000000006543e561])\n",
      "└ @ WGLMakie C:\\Users\\pi96doc\\.julia\\packages\\WGLMakie\\Ykt0o\\src\\events.jl:106\n",
      "┌ Warning: Error in window event callback\n",
      "│   exception = (TaskFailedException(Task (failed) @0x00000000b95489c0), Union{Ptr{Nothing}, Base.InterpreterIP}[Ptr{Nothing} @0x000000015039f789, Ptr{Nothing} @0x000000015039f90c, Ptr{Nothing} @0x000000015039fb88, Ptr{Nothing} @0x000000015039dc6d, Ptr{Nothing} @0x000000015039e49b, Ptr{Nothing} @0x000000015039e83e, Ptr{Nothing} @0x000000015039f224, Ptr{Nothing} @0x0000000065429d28, Ptr{Nothing} @0x000000006542baad, Ptr{Nothing} @0x000000000dd5e4cd, Ptr{Nothing} @0x000000006542baad, Ptr{Nothing} @0x000000000e476cb3, Ptr{Nothing} @0x000000006542baad, Ptr{Nothing} @0x0000000060570dd3, Ptr{Nothing} @0x0000000060570e06, Ptr{Nothing} @0x0000000065429d28, Ptr{Nothing} @0x000000006309ee02, Ptr{Nothing} @0x000000015039b998, Ptr{Nothing} @0x000000015039d353, Ptr{Nothing} @0x000000006543e561])\n",
      "└ @ WGLMakie C:\\Users\\pi96doc\\.julia\\packages\\WGLMakie\\Ykt0o\\src\\events.jl:106\n"
     ]
    }
   ],
   "source": [
    "myfig = ortho(rand(10,20,30))"
   ]
  },
  {
   "cell_type": "code",
   "execution_count": 13,
   "metadata": {},
   "outputs": [
    {
     "data": {
      "text/html": [
       "<div>\n",
       "  <script src=\"http://localhost:9384/assets-3303352381885852006/01da283050350cfc371927f96b11ec49a2446fdb-JSServe.bundled.js\" type=\"module\"></script>\n",
       "  <script type=\"module\">    JSServe.fetch_binary('http://localhost:9384/assets-3303352381885852006/a7766dd229cb88476b3242a22f50b3cecac2c805-14876896916324707961.dist').then(msgs=> JSServe.init_session('650ca70a-45bb-4522-b3f7-f778a061d5b6', msgs, 'root'));\n",
       "</script>\n",
       "  <script type=\"module\">    import('http://localhost:9384/assets-3303352381885852006/2c397fe0196b480c2fe7d0b6d33d58e0107a9b0f-Websocket.bundled.js').then(WS => {\n",
       "        WS.setup_connection({proxy_url: 'http://localhost:9384', session_id: '650ca70a-45bb-4522-b3f7-f778a061d5b6', compression_enabled: false})\n",
       "    })\n",
       "</script>\n",
       "  <div id=\"650ca70a-45bb-4522-b3f7-f778a061d5b6\" data-jscall-id=\"root\">\n",
       "    <div data-jscall-id=\"1\">\n",
       "      <canvas data-jscall-id=\"2\" tabindex=\"0\"></canvas>\n",
       "    </div>\n",
       "  </div>\n",
       "  <div></div>\n",
       "</div>"
      ]
     },
     "metadata": {},
     "output_type": "display_data"
    },
    {
     "data": {
      "text/plain": [
       "WGLMakie.Screen(Channel{WGLMakie.ThreeDisplay}(1), Session{JSServe.WebSocketConnection}:\n",
       "  id: 650ca70a-45bb-4522-b3f7-f778a061d5b6\n",
       "  parent: Nothing\n",
       "  connection: closed\n",
       "  isready: false\n",
       "  asset_server: JSServe.HTTPAssetServer\n",
       "  queued messages: 0\n",
       ", true, Scene (480px, 570px):\n",
       "  0 Plots\n",
       "  12 Child Scenes:\n",
       "    ├ Scene (480px, 570px)\n",
       "    ├ Scene (480px, 570px)\n",
       "    ├ Scene (480px, 570px)\n",
       "    ├ Scene (480px, 570px)\n",
       "    ├ Scene (480px, 570px)\n",
       "    ├ Scene (480px, 570px)\n",
       "    ├ Scene (480px, 570px)\n",
       "    ├ Scene (480px, 570px)\n",
       "    ├ Scene (480px, 570px)\n",
       "    ├ Scene (480px, 570px)\n",
       "    ├ Scene (480px, 570px)\n",
       "    └ Scene (480px, 570px), Set([\"750140327694453407\", \"17484276767651921139\", \"15507169903716011529\", \"2687005635532327096\", \"1662500111397112659\", \"12311950395272582897\", \"7506027154051512418\", \"13453584992645121573\", \"16412664308871809692\", \"7556812643035442079\", \"10983829167917631308\", \"12679100629996246379\", \"17146623863400930938\", \"18363672593623278801\", \"17379652391161452859\", \"3062089755341374990\", \"13480927997857255428\"]))"
      ]
     },
     "metadata": {},
     "output_type": "display_data"
    }
   ],
   "source": [
    "display(myfig)"
   ]
  },
  {
   "cell_type": "code",
   "execution_count": null,
   "metadata": {},
   "outputs": [],
   "source": []
  }
 ],
 "metadata": {
  "kernelspec": {
   "display_name": "Julia 1.8.2",
   "language": "julia",
   "name": "julia-1.8"
  },
  "language_info": {
   "file_extension": ".jl",
   "mimetype": "application/julia",
   "name": "julia",
   "version": "1.8.2"
  },
  "orig_nbformat": 4
 },
 "nbformat": 4,
 "nbformat_minor": 2
}

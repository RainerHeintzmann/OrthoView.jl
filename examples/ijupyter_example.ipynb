{
 "cells": [
  {
   "cell_type": "code",
   "execution_count": 15,
   "metadata": {},
   "outputs": [
    {
     "data": {
      "text/plain": [
       "\"C:\\\\Users\\\\pi96doc\\\\AppData\\\\Local\\\\Temp\\\\jl_aWa1gP\\\\Project.toml\""
      ]
     },
     "metadata": {},
     "output_type": "display_data"
    }
   ],
   "source": [
    "Pkg.activate(\"..\")\n",
    "using TestEnv;TestEnv.activate()"
   ]
  },
  {
   "cell_type": "code",
   "execution_count": 3,
   "metadata": {},
   "outputs": [
    {
     "data": {
      "text/plain": [
       "Makie.Slider"
      ]
     },
     "metadata": {},
     "output_type": "display_data"
    }
   ],
   "source": [
    "import WGLMakie: Makie\n",
    "Makie.Slider"
   ]
  },
  {
   "cell_type": "code",
   "execution_count": 19,
   "metadata": {},
   "outputs": [],
   "source": [
    "using WGLMakie\n",
    "WGLMakie.activate!(; framerate=30)"
   ]
  },
  {
   "cell_type": "code",
   "execution_count": 7,
   "metadata": {},
   "outputs": [
    {
     "data": {
      "text/html": [
       "<div>\n",
       "  <script src=\"http://localhost:9384/assets-1239152114849812744/01da283050350cfc371927f96b11ec49a2446fdb-JSServe.bundled.js\" type=\"module\"></script>\n",
       "  <script type=\"module\">    JSServe.fetch_binary('http://localhost:9384/assets-1239152114849812744/c64e56e8865ec141a39d80ef5c0e480851b406d2-11908610870932036227.dist').then(msgs=> JSServe.init_session('88e9423c-6abd-4f20-9bc3-c724628da133', msgs, 'root'));\n",
       "</script>\n",
       "  <script type=\"module\">    import('http://localhost:9384/assets-1239152114849812744/2c397fe0196b480c2fe7d0b6d33d58e0107a9b0f-Websocket.bundled.js').then(WS => {\n",
       "        WS.setup_connection({proxy_url: 'http://localhost:9384', session_id: '88e9423c-6abd-4f20-9bc3-c724628da133', compression_enabled: false})\n",
       "    })\n",
       "</script>\n",
       "  <div id=\"88e9423c-6abd-4f20-9bc3-c724628da133\" data-jscall-id=\"root\">\n",
       "    <div data-jscall-id=\"1\">\n",
       "      <canvas data-jscall-id=\"2\" tabindex=\"0\"></canvas>\n",
       "    </div>\n",
       "  </div>\n",
       "  <div></div>\n",
       "</div>"
      ]
     },
     "metadata": {},
     "output_type": "display_data"
    }
   ],
   "source": [
    "scatter(1:4, color=1:4)"
   ]
  },
  {
   "cell_type": "code",
   "execution_count": 5,
   "metadata": {},
   "outputs": [
    {
     "name": "stderr",
     "output_type": "stream",
     "text": [
      "WARNING: both Makie and JSServe export \"Slider\"; uses of it in module WGLMakie must be qualified\n"
     ]
    },
    {
     "ename": "UndefVarError",
     "evalue": "UndefVarError: Slider not defined",
     "output_type": "error",
     "traceback": [
      "UndefVarError: Slider not defined\n",
      "\n",
      "Stacktrace:\n",
      " [1] getproperty(x::Module, f::Symbol)\n",
      "   @ Base .\\Base.jl:31\n",
      " [2] top-level scope\n",
      "   @ c:\\Users\\pi96doc\\Nextcloud-Uni\\Julia\\OrthoView.jl\\examples\\ijupyter_example.ipynb:1"
     ]
    }
   ],
   "source": []
  },
  {
   "cell_type": "code",
   "execution_count": 16,
   "metadata": {},
   "outputs": [],
   "source": [
    "using OrthoView"
   ]
  },
  {
   "cell_type": "code",
   "execution_count": 20,
   "metadata": {},
   "outputs": [
    {
     "data": {
      "text/html": [
       "<div>\n",
       "  <script src=\"http://localhost:9384/assets-4322207203898024249/01da283050350cfc371927f96b11ec49a2446fdb-JSServe.bundled.js\" type=\"module\"></script>\n",
       "  <script type=\"module\">    JSServe.fetch_binary('http://localhost:9384/assets-4322207203898024249/545ccfff7333aa4f8fdf99d4bd8a8399fd401b69-532848058242890089.dist').then(msgs=> JSServe.init_session('d65091c2-03a3-4c4c-90e4-a066896894c2', msgs, 'root'));\n",
       "</script>\n",
       "  <script type=\"module\">    import('http://localhost:9384/assets-4322207203898024249/2c397fe0196b480c2fe7d0b6d33d58e0107a9b0f-Websocket.bundled.js').then(WS => {\n",
       "        WS.setup_connection({proxy_url: 'http://localhost:9384', session_id: 'd65091c2-03a3-4c4c-90e4-a066896894c2', compression_enabled: false})\n",
       "    })\n",
       "</script>\n",
       "  <div id=\"d65091c2-03a3-4c4c-90e4-a066896894c2\" data-jscall-id=\"root\">\n",
       "    <div data-jscall-id=\"1\">\n",
       "      <canvas data-jscall-id=\"2\" tabindex=\"0\"></canvas>\n",
       "    </div>\n",
       "  </div>\n",
       "  <div></div>\n",
       "</div>"
      ]
     },
     "metadata": {},
     "output_type": "display_data"
    },
    {
     "data": {
      "text/html": [
       "<div>\n",
       "  <script src=\"http://localhost:9384/assets-3521535877988469893/01da283050350cfc371927f96b11ec49a2446fdb-JSServe.bundled.js\" type=\"module\"></script>\n",
       "  <script type=\"module\">    JSServe.fetch_binary('http://localhost:9384/assets-3521535877988469893/5eb3926f114dffbf932e53dd934e27ef38134662-15089706451479446743.dist').then(msgs=> JSServe.init_session('a5ffb2ad-9452-4edb-971a-d99526e25b0a', msgs, 'root'));\n",
       "</script>\n",
       "  <script type=\"module\">    import('http://localhost:9384/assets-3521535877988469893/2c397fe0196b480c2fe7d0b6d33d58e0107a9b0f-Websocket.bundled.js').then(WS => {\n",
       "        WS.setup_connection({proxy_url: 'http://localhost:9384', session_id: 'a5ffb2ad-9452-4edb-971a-d99526e25b0a', compression_enabled: false})\n",
       "    })\n",
       "</script>\n",
       "  <div id=\"a5ffb2ad-9452-4edb-971a-d99526e25b0a\" data-jscall-id=\"root\">\n",
       "    <div data-jscall-id=\"1\">\n",
       "      <canvas data-jscall-id=\"2\" tabindex=\"0\"></canvas>\n",
       "    </div>\n",
       "  </div>\n",
       "  <div></div>\n",
       "</div>"
      ]
     },
     "metadata": {},
     "output_type": "display_data"
    }
   ],
   "source": [
    "myfig = ortho(rand(10,20,30))"
   ]
  },
  {
   "cell_type": "code",
   "execution_count": 18,
   "metadata": {},
   "outputs": [
    {
     "ename": "UndefVarError",
     "evalue": "UndefVarError: WGLMakie not defined",
     "output_type": "error",
     "traceback": [
      "UndefVarError: WGLMakie not defined\n",
      "\n",
      "Stacktrace:\n",
      " [1] top-level scope\n",
      "   @ c:\\Users\\pi96doc\\Nextcloud-Uni\\Julia\\OrthoView.jl\\examples\\ijupyter_example.ipynb:1"
     ]
    }
   ],
   "source": [
    "OrthoView.GlobalBackend = WGLMakie"
   ]
  },
  {
   "cell_type": "code",
   "execution_count": 13,
   "metadata": {},
   "outputs": [
    {
     "data": {
      "text/html": [
       "<div>\n",
       "  <script src=\"http://localhost:9384/assets-3303352381885852006/01da283050350cfc371927f96b11ec49a2446fdb-JSServe.bundled.js\" type=\"module\"></script>\n",
       "  <script type=\"module\">    JSServe.fetch_binary('http://localhost:9384/assets-3303352381885852006/a7766dd229cb88476b3242a22f50b3cecac2c805-14876896916324707961.dist').then(msgs=> JSServe.init_session('650ca70a-45bb-4522-b3f7-f778a061d5b6', msgs, 'root'));\n",
       "</script>\n",
       "  <script type=\"module\">    import('http://localhost:9384/assets-3303352381885852006/2c397fe0196b480c2fe7d0b6d33d58e0107a9b0f-Websocket.bundled.js').then(WS => {\n",
       "        WS.setup_connection({proxy_url: 'http://localhost:9384', session_id: '650ca70a-45bb-4522-b3f7-f778a061d5b6', compression_enabled: false})\n",
       "    })\n",
       "</script>\n",
       "  <div id=\"650ca70a-45bb-4522-b3f7-f778a061d5b6\" data-jscall-id=\"root\">\n",
       "    <div data-jscall-id=\"1\">\n",
       "      <canvas data-jscall-id=\"2\" tabindex=\"0\"></canvas>\n",
       "    </div>\n",
       "  </div>\n",
       "  <div></div>\n",
       "</div>"
      ]
     },
     "metadata": {},
     "output_type": "display_data"
    },
    {
     "data": {
      "text/plain": [
       "WGLMakie.Screen(Channel{WGLMakie.ThreeDisplay}(1), Session{JSServe.WebSocketConnection}:\n",
       "  id: 650ca70a-45bb-4522-b3f7-f778a061d5b6\n",
       "  parent: Nothing\n",
       "  connection: closed\n",
       "  isready: false\n",
       "  asset_server: JSServe.HTTPAssetServer\n",
       "  queued messages: 0\n",
       ", true, Scene (480px, 570px):\n",
       "  0 Plots\n",
       "  12 Child Scenes:\n",
       "    ├ Scene (480px, 570px)\n",
       "    ├ Scene (480px, 570px)\n",
       "    ├ Scene (480px, 570px)\n",
       "    ├ Scene (480px, 570px)\n",
       "    ├ Scene (480px, 570px)\n",
       "    ├ Scene (480px, 570px)\n",
       "    ├ Scene (480px, 570px)\n",
       "    ├ Scene (480px, 570px)\n",
       "    ├ Scene (480px, 570px)\n",
       "    ├ Scene (480px, 570px)\n",
       "    ├ Scene (480px, 570px)\n",
       "    └ Scene (480px, 570px), Set([\"750140327694453407\", \"17484276767651921139\", \"15507169903716011529\", \"2687005635532327096\", \"1662500111397112659\", \"12311950395272582897\", \"7506027154051512418\", \"13453584992645121573\", \"16412664308871809692\", \"7556812643035442079\", \"10983829167917631308\", \"12679100629996246379\", \"17146623863400930938\", \"18363672593623278801\", \"17379652391161452859\", \"3062089755341374990\", \"13480927997857255428\"]))"
      ]
     },
     "metadata": {},
     "output_type": "display_data"
    }
   ],
   "source": [
    "display(myfig)"
   ]
  },
  {
   "cell_type": "code",
   "execution_count": null,
   "metadata": {},
   "outputs": [],
   "source": []
  }
 ],
 "metadata": {
  "kernelspec": {
   "display_name": "Julia 1.8.2",
   "language": "julia",
   "name": "julia-1.8"
  },
  "language_info": {
   "file_extension": ".jl",
   "mimetype": "application/julia",
   "name": "julia",
   "version": "1.8.2"
  },
  "orig_nbformat": 4
 },
 "nbformat": 4,
 "nbformat_minor": 2
}
